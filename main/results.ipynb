{
 "cells": [
  {
   "cell_type": "code",
   "execution_count": 1,
   "metadata": {
    "vscode": {
     "languageId": "plaintext"
    }
   },
   "outputs": [],
   "source": [
    "from loguru import logger\n",
    "from sqlmodel import Session, create_engine, SQLModel, select\n",
    "from pathlib import Path\n",
    "from models.sql_models import Author, Post, Tag, Blog\n",
    "import matplotlib.pyplot as plt\n",
    "import numpy as np"
   ]
  },
  {
   "cell_type": "code",
   "execution_count": 2,
   "metadata": {
    "vscode": {
     "languageId": "plaintext"
    }
   },
   "outputs": [],
   "source": [
    "base_path = Path().resolve().parent\n",
    "sqlite_file_name = \"database.db\"\n",
    "sqlite_url = f\"sqlite:///{base_path}/database/data/{sqlite_file_name}\"\n",
    "engine = create_engine(sqlite_url)"
   ]
  },
  {
   "cell_type": "code",
   "execution_count": 3,
   "metadata": {},
   "outputs": [
    {
     "name": "stderr",
     "output_type": "stream",
     "text": [
      "\u001b[32m2025-04-01 12:01:23.188\u001b[0m | \u001b[1mINFO    \u001b[0m | \u001b[36m__main__\u001b[0m:\u001b[36m<module>\u001b[0m:\u001b[36m10\u001b[0m - \u001b[1mDas Programm hat: 66041 Tags überprüft.\u001b[0m\n",
      "\u001b[32m2025-04-01 12:01:23.831\u001b[0m | \u001b[1mINFO    \u001b[0m | \u001b[36m__main__\u001b[0m:\u001b[36m<module>\u001b[0m:\u001b[36m13\u001b[0m - \u001b[1mEs wurden insgesammt: 457866 unique Posts gefunden.\u001b[0m\n",
      "\u001b[32m2025-04-01 12:01:23.847\u001b[0m | \u001b[1mINFO    \u001b[0m | \u001b[36m__main__\u001b[0m:\u001b[36m<module>\u001b[0m:\u001b[36m16\u001b[0m - \u001b[1mDiese wurden in: 11339 uniquen Blogs veröffentlicht.\u001b[0m\n",
      "\u001b[32m2025-04-01 12:01:25.035\u001b[0m | \u001b[1mINFO    \u001b[0m | \u001b[36m__main__\u001b[0m:\u001b[36m<module>\u001b[0m:\u001b[36m19\u001b[0m - \u001b[1mAls deutsch erkannt, wurden: 371841 Posts.\u001b[0m\n",
      "\u001b[32m2025-04-01 12:01:25.045\u001b[0m | \u001b[1mINFO    \u001b[0m | \u001b[36m__main__\u001b[0m:\u001b[36m<module>\u001b[0m:\u001b[36m22\u001b[0m - \u001b[1mZu den Posts sind: 12589 unique Authoren gefunden worden (nicht für alle Posts sind Authoren bekannt).\u001b[0m\n"
     ]
    }
   ],
   "source": [
    "all_processed_tags: list[Tag] = []\n",
    "all_posts: list[Post] = []\n",
    "all_blogs: list[Blog] = []\n",
    "all_german_posts: list[Post] = []\n",
    "all_authors: list[Author] = []\n",
    "\n",
    "with Session(engine) as session:\n",
    "        statement = select(Tag).where(Tag.processed == True)\n",
    "        all_processed_tags = session.exec(statement).all()\n",
    "        logger.info(f'Das Programm hat: {len(all_processed_tags)} Tags überprüft.')\n",
    "        statement = select(Post.ID)\n",
    "        all_posts = session.exec(statement).all()\n",
    "        logger.info(f'Es wurden insgesammt: {len(all_posts)} unique Posts gefunden.')\n",
    "        statement = select(Blog.site_ID, Blog.cc_licence)\n",
    "        all_blogs = session.exec(statement).all()\n",
    "        logger.info(f'Diese wurden in: {len(all_blogs)} uniquen Blogs veröffentlicht.')\n",
    "        statement = select(Post.ID, Post.language).where(Post.language == 'de')\n",
    "        all_german_posts = session.exec(statement).all()\n",
    "        logger.info(f'Als deutsch erkannt, wurden: {len(all_german_posts)} Posts.')\n",
    "        statement = select(Author.ID)\n",
    "        all_authors = session.exec(statement).all()\n",
    "        logger.info(f'Zu den Posts sind: {len(all_authors)} unique Authoren gefunden worden (nicht für alle Posts sind Authoren bekannt).')\n",
    "\n"
   ]
  },
  {
   "cell_type": "code",
   "execution_count": 4,
   "metadata": {},
   "outputs": [
    {
     "name": "stderr",
     "output_type": "stream",
     "text": [
      "\u001b[32m2025-04-01 12:01:25.670\u001b[0m | \u001b[1mINFO    \u001b[0m | \u001b[36m__main__\u001b[0m:\u001b[36m<module>\u001b[0m:\u001b[36m7\u001b[0m - \u001b[1mAls englisch erkannt, wurden: 64004 Posts.\u001b[0m\n",
      "\u001b[32m2025-04-01 12:01:26.208\u001b[0m | \u001b[1mINFO    \u001b[0m | \u001b[36m__main__\u001b[0m:\u001b[36m<module>\u001b[0m:\u001b[36m10\u001b[0m - \u001b[1mWeder als englisch noch als deutsch erkannt, wurden: 19737 Posts.\u001b[0m\n"
     ]
    }
   ],
   "source": [
    "all_english_posts: list[Post] = []\n",
    "all_other_posts: list[Post] = []\n",
    "\n",
    "with Session(engine) as session:\n",
    "        statement = select(Post.ID, Post.language).where(Post.language == 'en')\n",
    "        all_english_posts = session.exec(statement).all()\n",
    "        logger.info(f'Als englisch erkannt, wurden: {len(all_english_posts)} Posts.')\n",
    "        statement = select(Post.ID, Post.language).where(Post.language != 'en').where(Post.language != 'de')\n",
    "        all_other_posts = session.exec(statement).all()\n",
    "        logger.info(f'Weder als englisch noch als deutsch erkannt, wurden: {len(all_other_posts)} Posts.')"
   ]
  },
  {
   "cell_type": "code",
   "execution_count": 5,
   "metadata": {},
   "outputs": [
    {
     "data": {
      "image/png": "[encoded data removed]",
      "text/plain": [
       "<Figure size 640x480 with 1 Axes>"
      ]
     },
     "metadata": {},
     "output_type": "display_data"
    }
   ],
   "source": [
    "labels = [\"deutsch\", \"englisch\", \"andere\"]\n",
    "werte = [len(all_german_posts), len(all_english_posts), len(all_other_posts)]\n",
    "plt.bar(labels, werte, color=[\"blue\", \"green\", \"red\"])\n",
    "plt.title(\"Sprachen der gefundenen Posts\")\n",
    "plt.xlabel(\"Sprachen\")\n",
    "plt.ylabel(\"Anzahl\")\n",
    "\n",
    "plt.show()"
   ]
  },
  {
   "cell_type": "code",
   "execution_count": 7,
   "metadata": {},
   "outputs": [
    {
     "name": "stderr",
     "output_type": "stream",
     "text": [
      "\u001b[32m2025-04-01 12:13:43.437\u001b[0m | \u001b[1mINFO    \u001b[0m | \u001b[36m__main__\u001b[0m:\u001b[36m<module>\u001b[0m:\u001b[36m5\u001b[0m - \u001b[1mUnter einer CC-Lizenz veröffentlicht, wurden: 0 Blogs\u001b[0m\n"
     ]
    }
   ],
   "source": [
    "all_cc_licence_blogs: list[Blog] = []\n",
    "with Session(engine) as session:\n",
    "        statement = select(Blog.cc_licence).where(Blog.cc_licence == True)\n",
    "        all_cc_licence_blogs = session.exec(statement).all()\n",
    "        logger.info(f'Unter einer CC-Lizenz veröffentlicht, wurden: {len(all_cc_licence_blogs)} Blogs')"
   ]
  },
  {
   "cell_type": "code",
   "execution_count": null,
   "metadata": {},
   "outputs": [],
   "source": []
  }
 ],
 "metadata": {
  "kernelspec": {
   "display_name": "Python 3 (ipykernel)",
   "language": "python",
   "name": "python3"
  },
  "language_info": {
   "codemirror_mode": {
    "name": "ipython",
    "version": 3
   },
   "file_extension": ".py",
   "mimetype": "text/x-python",
   "name": "python",
   "nbconvert_exporter": "python",
   "pygments_lexer": "ipython3",
   "version": "3.12.9"
  }
 },
 "nbformat": 4,
 "nbformat_minor": 4
}
